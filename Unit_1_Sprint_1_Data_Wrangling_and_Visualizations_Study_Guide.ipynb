{
  "nbformat": 4,
  "nbformat_minor": 0,
  "metadata": {
    "colab": {
      "name": "Unit 1 Sprint 1 - Data Wrangling and Visualizations - Study Guide.ipynb",
      "provenance": [],
      "collapsed_sections": [],
      "include_colab_link": true
    },
    "kernelspec": {
      "name": "python3",
      "display_name": "Python 3"
    }
  },
  "cells": [
    {
      "cell_type": "markdown",
      "metadata": {
        "id": "view-in-github",
        "colab_type": "text"
      },
      "source": [
        "<a href=\"https://colab.research.google.com/github/ekoly/Study-Guides/blob/master/Unit_1_Sprint_1_Data_Wrangling_and_Visualizations_Study_Guide.ipynb\" target=\"_parent\"><img src=\"https://colab.research.google.com/assets/colab-badge.svg\" alt=\"Open In Colab\"/></a>"
      ]
    },
    {
      "cell_type": "markdown",
      "metadata": {
        "id": "LC39gYz8ZVKF",
        "colab_type": "text"
      },
      "source": [
        "This study guide should reinforce and provide practice for all of the concepts you have seen in the past week. There are a mix of written questions and coding exercises, both are equally important to prepare you for the sprint challenge as well as to be able to speak on these topics comfortably in interviews and on the job.\n",
        "\n",
        "If you get stuck or are unsure of something remember the 20 minute rule. If that doesn't help, then research a solution with google and stackoverflow. Only once you have exausted these methods should you turn to your Team Lead - they won't be there on your SC or during an interview. That being said, don't hesitate to ask for help if you truly are stuck.\n",
        "\n",
        "Have fun studying!"
      ]
    },
    {
      "cell_type": "markdown",
      "metadata": {
        "id": "DI3Ev_xu1KRN",
        "colab_type": "text"
      },
      "source": [
        "# Resources\n",
        "[Pandas Documentation](https://pandas.pydata.org/pandas-docs/stable/reference/index.html)\n",
        "\n",
        "[Matplotlib Documentation](https://matplotlib.org/3.1.1/api/pyplot_summary.html)\n",
        "\n",
        "[Pandas EDA Cheat Sheet](https://github.com/bundickm/CheatSheets/blob/master/Data_Cleaning_and_Exploring_Cheat_Sheet.ipynb)\n",
        "\n",
        "[Pandas Data Wrangling Cheat Sheet](https://github.com/bundickm/CheatSheets/blob/master/Data_wrangling_cheatsheet.pdf)\n",
        "\n",
        "[Matplotlib Cheat Sheet](https://github.com/bundickm/CheatSheets/blob/master/MatplotLib_Cheat_Sheet.ipynb)"
      ]
    },
    {
      "cell_type": "markdown",
      "metadata": {
        "id": "-_4LgTTcDz-5",
        "colab_type": "text"
      },
      "source": [
        "# Setup"
      ]
    },
    {
      "cell_type": "markdown",
      "metadata": {
        "id": "xKAlguQSD7kl",
        "colab_type": "text"
      },
      "source": [
        "Import and alias the following libraries:\n",
        "- numpy\n",
        "- pandas\n",
        "- matplot\n",
        "- seaborn"
      ]
    },
    {
      "cell_type": "code",
      "metadata": {
        "id": "_HUoZ4slCjSf",
        "colab_type": "code",
        "colab": {}
      },
      "source": [
        "import numpy as np\n",
        "import pandas as pd\n",
        "from matplotlib import pyplot as plt\n",
        "import seaborn as sns\n"
      ],
      "execution_count": 37,
      "outputs": []
    },
    {
      "cell_type": "markdown",
      "metadata": {
        "id": "9s_RXnzmEZjn",
        "colab_type": "text"
      },
      "source": [
        "Read in the auto data csv below and verify it's contents"
      ]
    },
    {
      "cell_type": "code",
      "metadata": {
        "id": "qyfFozmfFMln",
        "colab_type": "code",
        "colab": {}
      },
      "source": [
        "auto_url = 'https://archive.ics.uci.edu/ml/machine-learning-databases/autos/imports-85.data'"
      ],
      "execution_count": 38,
      "outputs": []
    },
    {
      "cell_type": "code",
      "metadata": {
        "id": "VeKPIs40G98C",
        "colab_type": "code",
        "colab": {
          "base_uri": "https://localhost:8080/",
          "height": 274
        },
        "outputId": "b3b77025-ffa2-4714-884c-9e854ae94486"
      },
      "source": [
        "df = pd.read_csv(auto_url, header=None)\n",
        "df.head()"
      ],
      "execution_count": 39,
      "outputs": [
        {
          "output_type": "execute_result",
          "data": {
            "text/html": [
              "<div>\n",
              "<style scoped>\n",
              "    .dataframe tbody tr th:only-of-type {\n",
              "        vertical-align: middle;\n",
              "    }\n",
              "\n",
              "    .dataframe tbody tr th {\n",
              "        vertical-align: top;\n",
              "    }\n",
              "\n",
              "    .dataframe thead th {\n",
              "        text-align: right;\n",
              "    }\n",
              "</style>\n",
              "<table border=\"1\" class=\"dataframe\">\n",
              "  <thead>\n",
              "    <tr style=\"text-align: right;\">\n",
              "      <th></th>\n",
              "      <th>0</th>\n",
              "      <th>1</th>\n",
              "      <th>2</th>\n",
              "      <th>3</th>\n",
              "      <th>4</th>\n",
              "      <th>5</th>\n",
              "      <th>6</th>\n",
              "      <th>7</th>\n",
              "      <th>8</th>\n",
              "      <th>9</th>\n",
              "      <th>10</th>\n",
              "      <th>11</th>\n",
              "      <th>12</th>\n",
              "      <th>13</th>\n",
              "      <th>14</th>\n",
              "      <th>15</th>\n",
              "      <th>16</th>\n",
              "      <th>17</th>\n",
              "      <th>18</th>\n",
              "      <th>19</th>\n",
              "      <th>20</th>\n",
              "      <th>21</th>\n",
              "      <th>22</th>\n",
              "      <th>23</th>\n",
              "      <th>24</th>\n",
              "      <th>25</th>\n",
              "    </tr>\n",
              "  </thead>\n",
              "  <tbody>\n",
              "    <tr>\n",
              "      <th>0</th>\n",
              "      <td>3</td>\n",
              "      <td>?</td>\n",
              "      <td>alfa-romero</td>\n",
              "      <td>gas</td>\n",
              "      <td>std</td>\n",
              "      <td>two</td>\n",
              "      <td>convertible</td>\n",
              "      <td>rwd</td>\n",
              "      <td>front</td>\n",
              "      <td>88.6</td>\n",
              "      <td>168.8</td>\n",
              "      <td>64.1</td>\n",
              "      <td>48.8</td>\n",
              "      <td>2548</td>\n",
              "      <td>dohc</td>\n",
              "      <td>four</td>\n",
              "      <td>130</td>\n",
              "      <td>mpfi</td>\n",
              "      <td>3.47</td>\n",
              "      <td>2.68</td>\n",
              "      <td>9.0</td>\n",
              "      <td>111</td>\n",
              "      <td>5000</td>\n",
              "      <td>21</td>\n",
              "      <td>27</td>\n",
              "      <td>13495</td>\n",
              "    </tr>\n",
              "    <tr>\n",
              "      <th>1</th>\n",
              "      <td>3</td>\n",
              "      <td>?</td>\n",
              "      <td>alfa-romero</td>\n",
              "      <td>gas</td>\n",
              "      <td>std</td>\n",
              "      <td>two</td>\n",
              "      <td>convertible</td>\n",
              "      <td>rwd</td>\n",
              "      <td>front</td>\n",
              "      <td>88.6</td>\n",
              "      <td>168.8</td>\n",
              "      <td>64.1</td>\n",
              "      <td>48.8</td>\n",
              "      <td>2548</td>\n",
              "      <td>dohc</td>\n",
              "      <td>four</td>\n",
              "      <td>130</td>\n",
              "      <td>mpfi</td>\n",
              "      <td>3.47</td>\n",
              "      <td>2.68</td>\n",
              "      <td>9.0</td>\n",
              "      <td>111</td>\n",
              "      <td>5000</td>\n",
              "      <td>21</td>\n",
              "      <td>27</td>\n",
              "      <td>16500</td>\n",
              "    </tr>\n",
              "    <tr>\n",
              "      <th>2</th>\n",
              "      <td>1</td>\n",
              "      <td>?</td>\n",
              "      <td>alfa-romero</td>\n",
              "      <td>gas</td>\n",
              "      <td>std</td>\n",
              "      <td>two</td>\n",
              "      <td>hatchback</td>\n",
              "      <td>rwd</td>\n",
              "      <td>front</td>\n",
              "      <td>94.5</td>\n",
              "      <td>171.2</td>\n",
              "      <td>65.5</td>\n",
              "      <td>52.4</td>\n",
              "      <td>2823</td>\n",
              "      <td>ohcv</td>\n",
              "      <td>six</td>\n",
              "      <td>152</td>\n",
              "      <td>mpfi</td>\n",
              "      <td>2.68</td>\n",
              "      <td>3.47</td>\n",
              "      <td>9.0</td>\n",
              "      <td>154</td>\n",
              "      <td>5000</td>\n",
              "      <td>19</td>\n",
              "      <td>26</td>\n",
              "      <td>16500</td>\n",
              "    </tr>\n",
              "    <tr>\n",
              "      <th>3</th>\n",
              "      <td>2</td>\n",
              "      <td>164</td>\n",
              "      <td>audi</td>\n",
              "      <td>gas</td>\n",
              "      <td>std</td>\n",
              "      <td>four</td>\n",
              "      <td>sedan</td>\n",
              "      <td>fwd</td>\n",
              "      <td>front</td>\n",
              "      <td>99.8</td>\n",
              "      <td>176.6</td>\n",
              "      <td>66.2</td>\n",
              "      <td>54.3</td>\n",
              "      <td>2337</td>\n",
              "      <td>ohc</td>\n",
              "      <td>four</td>\n",
              "      <td>109</td>\n",
              "      <td>mpfi</td>\n",
              "      <td>3.19</td>\n",
              "      <td>3.40</td>\n",
              "      <td>10.0</td>\n",
              "      <td>102</td>\n",
              "      <td>5500</td>\n",
              "      <td>24</td>\n",
              "      <td>30</td>\n",
              "      <td>13950</td>\n",
              "    </tr>\n",
              "    <tr>\n",
              "      <th>4</th>\n",
              "      <td>2</td>\n",
              "      <td>164</td>\n",
              "      <td>audi</td>\n",
              "      <td>gas</td>\n",
              "      <td>std</td>\n",
              "      <td>four</td>\n",
              "      <td>sedan</td>\n",
              "      <td>4wd</td>\n",
              "      <td>front</td>\n",
              "      <td>99.4</td>\n",
              "      <td>176.6</td>\n",
              "      <td>66.4</td>\n",
              "      <td>54.3</td>\n",
              "      <td>2824</td>\n",
              "      <td>ohc</td>\n",
              "      <td>five</td>\n",
              "      <td>136</td>\n",
              "      <td>mpfi</td>\n",
              "      <td>3.19</td>\n",
              "      <td>3.40</td>\n",
              "      <td>8.0</td>\n",
              "      <td>115</td>\n",
              "      <td>5500</td>\n",
              "      <td>18</td>\n",
              "      <td>22</td>\n",
              "      <td>17450</td>\n",
              "    </tr>\n",
              "  </tbody>\n",
              "</table>\n",
              "</div>"
            ],
            "text/plain": [
              "   0    1            2    3    4     5   ...    20   21    22  23  24     25\n",
              "0   3    ?  alfa-romero  gas  std   two  ...   9.0  111  5000  21  27  13495\n",
              "1   3    ?  alfa-romero  gas  std   two  ...   9.0  111  5000  21  27  16500\n",
              "2   1    ?  alfa-romero  gas  std   two  ...   9.0  154  5000  19  26  16500\n",
              "3   2  164         audi  gas  std  four  ...  10.0  102  5500  24  30  13950\n",
              "4   2  164         audi  gas  std  four  ...   8.0  115  5500  18  22  17450\n",
              "\n",
              "[5 rows x 26 columns]"
            ]
          },
          "metadata": {
            "tags": []
          },
          "execution_count": 39
        }
      ]
    },
    {
      "cell_type": "code",
      "metadata": {
        "id": "cYVrL8j1G-Jv",
        "colab_type": "code",
        "colab": {}
      },
      "source": [
        ""
      ],
      "execution_count": 39,
      "outputs": []
    },
    {
      "cell_type": "markdown",
      "metadata": {
        "id": "t27UxbeWFxIo",
        "colab_type": "text"
      },
      "source": [
        "You should see there are no column headers. Read in the csv with the column names below and then check the first 5 and last 5 rows of the data frame"
      ]
    },
    {
      "cell_type": "code",
      "metadata": {
        "id": "Tw59O017GDGu",
        "colab_type": "code",
        "colab": {}
      },
      "source": [
        "columns = ['symboling','norm_loss','make','fuel','aspiration','doors',\n",
        "           'bod_style','drv_wheels','eng_loc','wheel_base','length','width',\n",
        "           'height','curb_weight','engine','cylinders','engine_size',\n",
        "           'fuel_system','bore','stroke','compression','hp','peak_rpm',\n",
        "           'city_mpg','hgwy_mpg','price']"
      ],
      "execution_count": 40,
      "outputs": []
    },
    {
      "cell_type": "code",
      "metadata": {
        "id": "V7m4Bl3UHqHt",
        "colab_type": "code",
        "colab": {}
      },
      "source": [
        "df.columns = columns"
      ],
      "execution_count": 41,
      "outputs": []
    },
    {
      "cell_type": "code",
      "metadata": {
        "id": "wcQSNUISH1-Q",
        "colab_type": "code",
        "colab": {
          "base_uri": "https://localhost:8080/",
          "height": 274
        },
        "outputId": "fe37d6d5-39b8-483a-b381-d64e7840023e"
      },
      "source": [
        "df.head()"
      ],
      "execution_count": 42,
      "outputs": [
        {
          "output_type": "execute_result",
          "data": {
            "text/html": [
              "<div>\n",
              "<style scoped>\n",
              "    .dataframe tbody tr th:only-of-type {\n",
              "        vertical-align: middle;\n",
              "    }\n",
              "\n",
              "    .dataframe tbody tr th {\n",
              "        vertical-align: top;\n",
              "    }\n",
              "\n",
              "    .dataframe thead th {\n",
              "        text-align: right;\n",
              "    }\n",
              "</style>\n",
              "<table border=\"1\" class=\"dataframe\">\n",
              "  <thead>\n",
              "    <tr style=\"text-align: right;\">\n",
              "      <th></th>\n",
              "      <th>symboling</th>\n",
              "      <th>norm_loss</th>\n",
              "      <th>make</th>\n",
              "      <th>fuel</th>\n",
              "      <th>aspiration</th>\n",
              "      <th>doors</th>\n",
              "      <th>bod_style</th>\n",
              "      <th>drv_wheels</th>\n",
              "      <th>eng_loc</th>\n",
              "      <th>wheel_base</th>\n",
              "      <th>length</th>\n",
              "      <th>width</th>\n",
              "      <th>height</th>\n",
              "      <th>curb_weight</th>\n",
              "      <th>engine</th>\n",
              "      <th>cylinders</th>\n",
              "      <th>engine_size</th>\n",
              "      <th>fuel_system</th>\n",
              "      <th>bore</th>\n",
              "      <th>stroke</th>\n",
              "      <th>compression</th>\n",
              "      <th>hp</th>\n",
              "      <th>peak_rpm</th>\n",
              "      <th>city_mpg</th>\n",
              "      <th>hgwy_mpg</th>\n",
              "      <th>price</th>\n",
              "    </tr>\n",
              "  </thead>\n",
              "  <tbody>\n",
              "    <tr>\n",
              "      <th>0</th>\n",
              "      <td>3</td>\n",
              "      <td>?</td>\n",
              "      <td>alfa-romero</td>\n",
              "      <td>gas</td>\n",
              "      <td>std</td>\n",
              "      <td>two</td>\n",
              "      <td>convertible</td>\n",
              "      <td>rwd</td>\n",
              "      <td>front</td>\n",
              "      <td>88.6</td>\n",
              "      <td>168.8</td>\n",
              "      <td>64.1</td>\n",
              "      <td>48.8</td>\n",
              "      <td>2548</td>\n",
              "      <td>dohc</td>\n",
              "      <td>four</td>\n",
              "      <td>130</td>\n",
              "      <td>mpfi</td>\n",
              "      <td>3.47</td>\n",
              "      <td>2.68</td>\n",
              "      <td>9.0</td>\n",
              "      <td>111</td>\n",
              "      <td>5000</td>\n",
              "      <td>21</td>\n",
              "      <td>27</td>\n",
              "      <td>13495</td>\n",
              "    </tr>\n",
              "    <tr>\n",
              "      <th>1</th>\n",
              "      <td>3</td>\n",
              "      <td>?</td>\n",
              "      <td>alfa-romero</td>\n",
              "      <td>gas</td>\n",
              "      <td>std</td>\n",
              "      <td>two</td>\n",
              "      <td>convertible</td>\n",
              "      <td>rwd</td>\n",
              "      <td>front</td>\n",
              "      <td>88.6</td>\n",
              "      <td>168.8</td>\n",
              "      <td>64.1</td>\n",
              "      <td>48.8</td>\n",
              "      <td>2548</td>\n",
              "      <td>dohc</td>\n",
              "      <td>four</td>\n",
              "      <td>130</td>\n",
              "      <td>mpfi</td>\n",
              "      <td>3.47</td>\n",
              "      <td>2.68</td>\n",
              "      <td>9.0</td>\n",
              "      <td>111</td>\n",
              "      <td>5000</td>\n",
              "      <td>21</td>\n",
              "      <td>27</td>\n",
              "      <td>16500</td>\n",
              "    </tr>\n",
              "    <tr>\n",
              "      <th>2</th>\n",
              "      <td>1</td>\n",
              "      <td>?</td>\n",
              "      <td>alfa-romero</td>\n",
              "      <td>gas</td>\n",
              "      <td>std</td>\n",
              "      <td>two</td>\n",
              "      <td>hatchback</td>\n",
              "      <td>rwd</td>\n",
              "      <td>front</td>\n",
              "      <td>94.5</td>\n",
              "      <td>171.2</td>\n",
              "      <td>65.5</td>\n",
              "      <td>52.4</td>\n",
              "      <td>2823</td>\n",
              "      <td>ohcv</td>\n",
              "      <td>six</td>\n",
              "      <td>152</td>\n",
              "      <td>mpfi</td>\n",
              "      <td>2.68</td>\n",
              "      <td>3.47</td>\n",
              "      <td>9.0</td>\n",
              "      <td>154</td>\n",
              "      <td>5000</td>\n",
              "      <td>19</td>\n",
              "      <td>26</td>\n",
              "      <td>16500</td>\n",
              "    </tr>\n",
              "    <tr>\n",
              "      <th>3</th>\n",
              "      <td>2</td>\n",
              "      <td>164</td>\n",
              "      <td>audi</td>\n",
              "      <td>gas</td>\n",
              "      <td>std</td>\n",
              "      <td>four</td>\n",
              "      <td>sedan</td>\n",
              "      <td>fwd</td>\n",
              "      <td>front</td>\n",
              "      <td>99.8</td>\n",
              "      <td>176.6</td>\n",
              "      <td>66.2</td>\n",
              "      <td>54.3</td>\n",
              "      <td>2337</td>\n",
              "      <td>ohc</td>\n",
              "      <td>four</td>\n",
              "      <td>109</td>\n",
              "      <td>mpfi</td>\n",
              "      <td>3.19</td>\n",
              "      <td>3.40</td>\n",
              "      <td>10.0</td>\n",
              "      <td>102</td>\n",
              "      <td>5500</td>\n",
              "      <td>24</td>\n",
              "      <td>30</td>\n",
              "      <td>13950</td>\n",
              "    </tr>\n",
              "    <tr>\n",
              "      <th>4</th>\n",
              "      <td>2</td>\n",
              "      <td>164</td>\n",
              "      <td>audi</td>\n",
              "      <td>gas</td>\n",
              "      <td>std</td>\n",
              "      <td>four</td>\n",
              "      <td>sedan</td>\n",
              "      <td>4wd</td>\n",
              "      <td>front</td>\n",
              "      <td>99.4</td>\n",
              "      <td>176.6</td>\n",
              "      <td>66.4</td>\n",
              "      <td>54.3</td>\n",
              "      <td>2824</td>\n",
              "      <td>ohc</td>\n",
              "      <td>five</td>\n",
              "      <td>136</td>\n",
              "      <td>mpfi</td>\n",
              "      <td>3.19</td>\n",
              "      <td>3.40</td>\n",
              "      <td>8.0</td>\n",
              "      <td>115</td>\n",
              "      <td>5500</td>\n",
              "      <td>18</td>\n",
              "      <td>22</td>\n",
              "      <td>17450</td>\n",
              "    </tr>\n",
              "  </tbody>\n",
              "</table>\n",
              "</div>"
            ],
            "text/plain": [
              "   symboling norm_loss         make fuel  ... peak_rpm city_mpg hgwy_mpg  price\n",
              "0          3         ?  alfa-romero  gas  ...     5000       21       27  13495\n",
              "1          3         ?  alfa-romero  gas  ...     5000       21       27  16500\n",
              "2          1         ?  alfa-romero  gas  ...     5000       19       26  16500\n",
              "3          2       164         audi  gas  ...     5500       24       30  13950\n",
              "4          2       164         audi  gas  ...     5500       18       22  17450\n",
              "\n",
              "[5 rows x 26 columns]"
            ]
          },
          "metadata": {
            "tags": []
          },
          "execution_count": 42
        }
      ]
    },
    {
      "cell_type": "code",
      "metadata": {
        "id": "urjF32mMKAMr",
        "colab_type": "code",
        "colab": {
          "base_uri": "https://localhost:8080/",
          "height": 480
        },
        "outputId": "f12447b9-3888-4fc5-e5c0-1ad2a336f1b7"
      },
      "source": [
        "df.dtypes"
      ],
      "execution_count": 43,
      "outputs": [
        {
          "output_type": "execute_result",
          "data": {
            "text/plain": [
              "symboling        int64\n",
              "norm_loss       object\n",
              "make            object\n",
              "fuel            object\n",
              "aspiration      object\n",
              "doors           object\n",
              "bod_style       object\n",
              "drv_wheels      object\n",
              "eng_loc         object\n",
              "wheel_base     float64\n",
              "length         float64\n",
              "width          float64\n",
              "height         float64\n",
              "curb_weight      int64\n",
              "engine          object\n",
              "cylinders       object\n",
              "engine_size      int64\n",
              "fuel_system     object\n",
              "bore            object\n",
              "stroke          object\n",
              "compression    float64\n",
              "hp              object\n",
              "peak_rpm        object\n",
              "city_mpg         int64\n",
              "hgwy_mpg         int64\n",
              "price           object\n",
              "dtype: object"
            ]
          },
          "metadata": {
            "tags": []
          },
          "execution_count": 43
        }
      ]
    },
    {
      "cell_type": "code",
      "metadata": {
        "id": "erDW-nws4tAQ",
        "colab_type": "code",
        "colab": {}
      },
      "source": [
        "df = df.replace({\"?\": np.nan})"
      ],
      "execution_count": 48,
      "outputs": []
    },
    {
      "cell_type": "code",
      "metadata": {
        "id": "RzXwgJTHEpy_",
        "colab_type": "code",
        "colab": {}
      },
      "source": [
        "df[\"hp\"] = df[\"hp\"].astype(np.float64)"
      ],
      "execution_count": 49,
      "outputs": []
    },
    {
      "cell_type": "code",
      "metadata": {
        "id": "9ZeCSG153w26",
        "colab_type": "code",
        "colab": {
          "base_uri": "https://localhost:8080/",
          "height": 154
        },
        "outputId": "1b6e1835-1cdf-41e9-9c12-33f6ef8377eb"
      },
      "source": [
        "df[\"cylinders\"].value_counts()"
      ],
      "execution_count": 50,
      "outputs": [
        {
          "output_type": "execute_result",
          "data": {
            "text/plain": [
              "four      159\n",
              "six        24\n",
              "five       11\n",
              "eight       5\n",
              "two         4\n",
              "twelve      1\n",
              "three       1\n",
              "Name: cylinders, dtype: int64"
            ]
          },
          "metadata": {
            "tags": []
          },
          "execution_count": 50
        }
      ]
    },
    {
      "cell_type": "code",
      "metadata": {
        "id": "2GoYwx4m38oB",
        "colab_type": "code",
        "colab": {}
      },
      "source": [
        "df[\"cylinders\"] = df[\"cylinders\"].replace({\"two\": 2, \"three\": 3, \"four\": 4, \"five\": 5, \"six\": 6, \"eight\": 8, \"twelve\": 12})"
      ],
      "execution_count": 55,
      "outputs": []
    },
    {
      "cell_type": "code",
      "metadata": {
        "id": "UUN0ieUe4Je4",
        "colab_type": "code",
        "colab": {
          "base_uri": "https://localhost:8080/",
          "height": 154
        },
        "outputId": "4ef594f8-2566-4fb4-dbe5-3f58c8626b6a"
      },
      "source": [
        "df[\"cylinders\"].value_counts()"
      ],
      "execution_count": 56,
      "outputs": [
        {
          "output_type": "execute_result",
          "data": {
            "text/plain": [
              "4     159\n",
              "6      24\n",
              "5      11\n",
              "8       5\n",
              "2       4\n",
              "12      1\n",
              "3       1\n",
              "Name: cylinders, dtype: int64"
            ]
          },
          "metadata": {
            "tags": []
          },
          "execution_count": 56
        }
      ]
    },
    {
      "cell_type": "code",
      "metadata": {
        "id": "1P_4i-YQ42az",
        "colab_type": "code",
        "colab": {
          "base_uri": "https://localhost:8080/",
          "height": 480
        },
        "outputId": "74355dce-47fd-49e5-9a65-1e4118f8bb3d"
      },
      "source": [
        "df.dtypes"
      ],
      "execution_count": 57,
      "outputs": [
        {
          "output_type": "execute_result",
          "data": {
            "text/plain": [
              "symboling        int64\n",
              "norm_loss       object\n",
              "make            object\n",
              "fuel            object\n",
              "aspiration      object\n",
              "doors           object\n",
              "bod_style       object\n",
              "drv_wheels      object\n",
              "eng_loc         object\n",
              "wheel_base     float64\n",
              "length         float64\n",
              "width          float64\n",
              "height         float64\n",
              "curb_weight      int64\n",
              "engine          object\n",
              "cylinders        int64\n",
              "engine_size      int64\n",
              "fuel_system     object\n",
              "bore            object\n",
              "stroke          object\n",
              "compression    float64\n",
              "hp             float64\n",
              "peak_rpm        object\n",
              "city_mpg         int64\n",
              "hgwy_mpg         int64\n",
              "price           object\n",
              "dtype: object"
            ]
          },
          "metadata": {
            "tags": []
          },
          "execution_count": 57
        }
      ]
    },
    {
      "cell_type": "code",
      "metadata": {
        "id": "0kK6t-2M488g",
        "colab_type": "code",
        "colab": {}
      },
      "source": [
        "df[\"cylinders\"] = df[\"cylinders\"].astype(np.int64)"
      ],
      "execution_count": 58,
      "outputs": []
    },
    {
      "cell_type": "code",
      "metadata": {
        "id": "EF36GDJT5OEI",
        "colab_type": "code",
        "colab": {}
      },
      "source": [
        "df[\"bore\"] = df[\"bore\"].astype(np.float64)"
      ],
      "execution_count": 60,
      "outputs": []
    },
    {
      "cell_type": "code",
      "metadata": {
        "id": "-r2DjoQS5Tup",
        "colab_type": "code",
        "colab": {}
      },
      "source": [
        "df[\"price\"] = df[\"price\"].astype(np.float64)"
      ],
      "execution_count": 61,
      "outputs": []
    },
    {
      "cell_type": "code",
      "metadata": {
        "id": "G7v1E4O85aZj",
        "colab_type": "code",
        "colab": {}
      },
      "source": [
        "df[\"peak_rpm\"] = df[\"peak_rpm\"].astype(np.float64)\n",
        "df[\"stroke\"] = df[\"stroke\"].astype(np.float64)"
      ],
      "execution_count": 63,
      "outputs": []
    },
    {
      "cell_type": "code",
      "metadata": {
        "id": "KYE_KJpo5pjV",
        "colab_type": "code",
        "colab": {
          "base_uri": "https://localhost:8080/",
          "height": 417
        },
        "outputId": "ec0f0101-057f-446b-f3a5-3800fd8be969"
      },
      "source": [
        "df.select_dtypes(\"object\")"
      ],
      "execution_count": 64,
      "outputs": [
        {
          "output_type": "execute_result",
          "data": {
            "text/html": [
              "<div>\n",
              "<style scoped>\n",
              "    .dataframe tbody tr th:only-of-type {\n",
              "        vertical-align: middle;\n",
              "    }\n",
              "\n",
              "    .dataframe tbody tr th {\n",
              "        vertical-align: top;\n",
              "    }\n",
              "\n",
              "    .dataframe thead th {\n",
              "        text-align: right;\n",
              "    }\n",
              "</style>\n",
              "<table border=\"1\" class=\"dataframe\">\n",
              "  <thead>\n",
              "    <tr style=\"text-align: right;\">\n",
              "      <th></th>\n",
              "      <th>norm_loss</th>\n",
              "      <th>make</th>\n",
              "      <th>fuel</th>\n",
              "      <th>aspiration</th>\n",
              "      <th>doors</th>\n",
              "      <th>bod_style</th>\n",
              "      <th>drv_wheels</th>\n",
              "      <th>eng_loc</th>\n",
              "      <th>engine</th>\n",
              "      <th>fuel_system</th>\n",
              "    </tr>\n",
              "  </thead>\n",
              "  <tbody>\n",
              "    <tr>\n",
              "      <th>0</th>\n",
              "      <td>NaN</td>\n",
              "      <td>alfa-romero</td>\n",
              "      <td>gas</td>\n",
              "      <td>std</td>\n",
              "      <td>two</td>\n",
              "      <td>convertible</td>\n",
              "      <td>rwd</td>\n",
              "      <td>front</td>\n",
              "      <td>dohc</td>\n",
              "      <td>mpfi</td>\n",
              "    </tr>\n",
              "    <tr>\n",
              "      <th>1</th>\n",
              "      <td>NaN</td>\n",
              "      <td>alfa-romero</td>\n",
              "      <td>gas</td>\n",
              "      <td>std</td>\n",
              "      <td>two</td>\n",
              "      <td>convertible</td>\n",
              "      <td>rwd</td>\n",
              "      <td>front</td>\n",
              "      <td>dohc</td>\n",
              "      <td>mpfi</td>\n",
              "    </tr>\n",
              "    <tr>\n",
              "      <th>2</th>\n",
              "      <td>NaN</td>\n",
              "      <td>alfa-romero</td>\n",
              "      <td>gas</td>\n",
              "      <td>std</td>\n",
              "      <td>two</td>\n",
              "      <td>hatchback</td>\n",
              "      <td>rwd</td>\n",
              "      <td>front</td>\n",
              "      <td>ohcv</td>\n",
              "      <td>mpfi</td>\n",
              "    </tr>\n",
              "    <tr>\n",
              "      <th>3</th>\n",
              "      <td>164</td>\n",
              "      <td>audi</td>\n",
              "      <td>gas</td>\n",
              "      <td>std</td>\n",
              "      <td>four</td>\n",
              "      <td>sedan</td>\n",
              "      <td>fwd</td>\n",
              "      <td>front</td>\n",
              "      <td>ohc</td>\n",
              "      <td>mpfi</td>\n",
              "    </tr>\n",
              "    <tr>\n",
              "      <th>4</th>\n",
              "      <td>164</td>\n",
              "      <td>audi</td>\n",
              "      <td>gas</td>\n",
              "      <td>std</td>\n",
              "      <td>four</td>\n",
              "      <td>sedan</td>\n",
              "      <td>4wd</td>\n",
              "      <td>front</td>\n",
              "      <td>ohc</td>\n",
              "      <td>mpfi</td>\n",
              "    </tr>\n",
              "    <tr>\n",
              "      <th>...</th>\n",
              "      <td>...</td>\n",
              "      <td>...</td>\n",
              "      <td>...</td>\n",
              "      <td>...</td>\n",
              "      <td>...</td>\n",
              "      <td>...</td>\n",
              "      <td>...</td>\n",
              "      <td>...</td>\n",
              "      <td>...</td>\n",
              "      <td>...</td>\n",
              "    </tr>\n",
              "    <tr>\n",
              "      <th>200</th>\n",
              "      <td>95</td>\n",
              "      <td>volvo</td>\n",
              "      <td>gas</td>\n",
              "      <td>std</td>\n",
              "      <td>four</td>\n",
              "      <td>sedan</td>\n",
              "      <td>rwd</td>\n",
              "      <td>front</td>\n",
              "      <td>ohc</td>\n",
              "      <td>mpfi</td>\n",
              "    </tr>\n",
              "    <tr>\n",
              "      <th>201</th>\n",
              "      <td>95</td>\n",
              "      <td>volvo</td>\n",
              "      <td>gas</td>\n",
              "      <td>turbo</td>\n",
              "      <td>four</td>\n",
              "      <td>sedan</td>\n",
              "      <td>rwd</td>\n",
              "      <td>front</td>\n",
              "      <td>ohc</td>\n",
              "      <td>mpfi</td>\n",
              "    </tr>\n",
              "    <tr>\n",
              "      <th>202</th>\n",
              "      <td>95</td>\n",
              "      <td>volvo</td>\n",
              "      <td>gas</td>\n",
              "      <td>std</td>\n",
              "      <td>four</td>\n",
              "      <td>sedan</td>\n",
              "      <td>rwd</td>\n",
              "      <td>front</td>\n",
              "      <td>ohcv</td>\n",
              "      <td>mpfi</td>\n",
              "    </tr>\n",
              "    <tr>\n",
              "      <th>203</th>\n",
              "      <td>95</td>\n",
              "      <td>volvo</td>\n",
              "      <td>diesel</td>\n",
              "      <td>turbo</td>\n",
              "      <td>four</td>\n",
              "      <td>sedan</td>\n",
              "      <td>rwd</td>\n",
              "      <td>front</td>\n",
              "      <td>ohc</td>\n",
              "      <td>idi</td>\n",
              "    </tr>\n",
              "    <tr>\n",
              "      <th>204</th>\n",
              "      <td>95</td>\n",
              "      <td>volvo</td>\n",
              "      <td>gas</td>\n",
              "      <td>turbo</td>\n",
              "      <td>four</td>\n",
              "      <td>sedan</td>\n",
              "      <td>rwd</td>\n",
              "      <td>front</td>\n",
              "      <td>ohc</td>\n",
              "      <td>mpfi</td>\n",
              "    </tr>\n",
              "  </tbody>\n",
              "</table>\n",
              "<p>205 rows × 10 columns</p>\n",
              "</div>"
            ],
            "text/plain": [
              "    norm_loss         make    fuel  ... eng_loc engine fuel_system\n",
              "0         NaN  alfa-romero     gas  ...   front   dohc        mpfi\n",
              "1         NaN  alfa-romero     gas  ...   front   dohc        mpfi\n",
              "2         NaN  alfa-romero     gas  ...   front   ohcv        mpfi\n",
              "3         164         audi     gas  ...   front    ohc        mpfi\n",
              "4         164         audi     gas  ...   front    ohc        mpfi\n",
              "..        ...          ...     ...  ...     ...    ...         ...\n",
              "200        95        volvo     gas  ...   front    ohc        mpfi\n",
              "201        95        volvo     gas  ...   front    ohc        mpfi\n",
              "202        95        volvo     gas  ...   front   ohcv        mpfi\n",
              "203        95        volvo  diesel  ...   front    ohc         idi\n",
              "204        95        volvo     gas  ...   front    ohc        mpfi\n",
              "\n",
              "[205 rows x 10 columns]"
            ]
          },
          "metadata": {
            "tags": []
          },
          "execution_count": 64
        }
      ]
    },
    {
      "cell_type": "code",
      "metadata": {
        "id": "5zasyrwT5u5h",
        "colab_type": "code",
        "colab": {}
      },
      "source": [
        "df[\"norm_loss\"] = df[\"norm_loss\"].astype(np.float64)"
      ],
      "execution_count": 65,
      "outputs": []
    },
    {
      "cell_type": "markdown",
      "metadata": {
        "id": "cCvbuEmUKC5-",
        "colab_type": "text"
      },
      "source": [
        " Check for nulls and any values that may be a placeholder for nulls"
      ]
    },
    {
      "cell_type": "code",
      "metadata": {
        "id": "hW20zUdu5YeA",
        "colab_type": "code",
        "colab": {}
      },
      "source": [
        ""
      ],
      "execution_count": 65,
      "outputs": []
    },
    {
      "cell_type": "code",
      "metadata": {
        "id": "ysFLklug5NNa",
        "colab_type": "code",
        "colab": {}
      },
      "source": [
        ""
      ],
      "execution_count": 65,
      "outputs": []
    },
    {
      "cell_type": "code",
      "metadata": {
        "id": "_m9hcNTzIhEs",
        "colab_type": "code",
        "colab": {}
      },
      "source": [
        "df[\"norm_loss\"] = df[\"norm_loss\"].replace(\"?\", np.nan)"
      ],
      "execution_count": 66,
      "outputs": []
    },
    {
      "cell_type": "code",
      "metadata": {
        "id": "JM7PZ5GJFj4D",
        "colab_type": "code",
        "colab": {}
      },
      "source": [
        "df[\"price\"] = df[\"price\"].replace(\"?\", np.nan)"
      ],
      "execution_count": 67,
      "outputs": []
    },
    {
      "cell_type": "code",
      "metadata": {
        "id": "rT5w2oVpF1LT",
        "colab_type": "code",
        "colab": {}
      },
      "source": [
        "df = df.replace(\"?\", np.nan)"
      ],
      "execution_count": 68,
      "outputs": []
    },
    {
      "cell_type": "code",
      "metadata": {
        "id": "ddeg6fHjIweq",
        "colab_type": "code",
        "colab": {
          "base_uri": "https://localhost:8080/",
          "height": 463
        },
        "outputId": "cf0b794c-146f-4bfb-e55e-211b85e7760e"
      },
      "source": [
        "for col in df:\n",
        "    print(col, df[col].isna().sum())"
      ],
      "execution_count": 69,
      "outputs": [
        {
          "output_type": "stream",
          "text": [
            "symboling 0\n",
            "norm_loss 41\n",
            "make 0\n",
            "fuel 0\n",
            "aspiration 0\n",
            "doors 2\n",
            "bod_style 0\n",
            "drv_wheels 0\n",
            "eng_loc 0\n",
            "wheel_base 0\n",
            "length 0\n",
            "width 0\n",
            "height 0\n",
            "curb_weight 0\n",
            "engine 0\n",
            "cylinders 0\n",
            "engine_size 0\n",
            "fuel_system 0\n",
            "bore 4\n",
            "stroke 4\n",
            "compression 0\n",
            "hp 2\n",
            "peak_rpm 2\n",
            "city_mpg 0\n",
            "hgwy_mpg 0\n",
            "price 4\n"
          ],
          "name": "stdout"
        }
      ]
    },
    {
      "cell_type": "code",
      "metadata": {
        "id": "XuSWCZI0F_9M",
        "colab_type": "code",
        "colab": {}
      },
      "source": [
        "df[\"peak_rpm\"] = df[\"peak_rpm\"].astype(np.float64)"
      ],
      "execution_count": 70,
      "outputs": []
    },
    {
      "cell_type": "code",
      "metadata": {
        "id": "aQZWAPQI4V1M",
        "colab_type": "code",
        "colab": {}
      },
      "source": [
        "df[\"price\"] = df[\"price\"].astype(np.float64)"
      ],
      "execution_count": 71,
      "outputs": []
    },
    {
      "cell_type": "code",
      "metadata": {
        "id": "yN3WgCYD4ejF",
        "colab_type": "code",
        "colab": {
          "base_uri": "https://localhost:8080/",
          "height": 480
        },
        "outputId": "8d2b69f0-e05a-49a3-b394-91e900173b16"
      },
      "source": [
        "df.dtypes"
      ],
      "execution_count": 72,
      "outputs": [
        {
          "output_type": "execute_result",
          "data": {
            "text/plain": [
              "symboling        int64\n",
              "norm_loss      float64\n",
              "make            object\n",
              "fuel            object\n",
              "aspiration      object\n",
              "doors           object\n",
              "bod_style       object\n",
              "drv_wheels      object\n",
              "eng_loc         object\n",
              "wheel_base     float64\n",
              "length         float64\n",
              "width          float64\n",
              "height         float64\n",
              "curb_weight      int64\n",
              "engine          object\n",
              "cylinders        int64\n",
              "engine_size      int64\n",
              "fuel_system     object\n",
              "bore           float64\n",
              "stroke         float64\n",
              "compression    float64\n",
              "hp             float64\n",
              "peak_rpm       float64\n",
              "city_mpg         int64\n",
              "hgwy_mpg         int64\n",
              "price          float64\n",
              "dtype: object"
            ]
          },
          "metadata": {
            "tags": []
          },
          "execution_count": 72
        }
      ]
    },
    {
      "cell_type": "markdown",
      "metadata": {
        "id": "r3Rl0YUlKakm",
        "colab_type": "text"
      },
      "source": [
        "Replace the placeholders with `NaN` and then recheck for nulls."
      ]
    },
    {
      "cell_type": "code",
      "metadata": {
        "id": "zAJbiOnv4dtC",
        "colab_type": "code",
        "colab": {}
      },
      "source": [
        ""
      ],
      "execution_count": 72,
      "outputs": []
    },
    {
      "cell_type": "code",
      "metadata": {
        "id": "XhiHSkWLKrgA",
        "colab_type": "code",
        "colab": {}
      },
      "source": [
        ""
      ],
      "execution_count": 72,
      "outputs": []
    },
    {
      "cell_type": "code",
      "metadata": {
        "id": "f53Ro229Krpz",
        "colab_type": "code",
        "colab": {}
      },
      "source": [
        ""
      ],
      "execution_count": 72,
      "outputs": []
    },
    {
      "cell_type": "markdown",
      "metadata": {
        "id": "XCLv0Q5OK8RW",
        "colab_type": "text"
      },
      "source": [
        "# Exploration"
      ]
    },
    {
      "cell_type": "markdown",
      "metadata": {
        "id": "d7pDkXRVLAd5",
        "colab_type": "text"
      },
      "source": [
        "Find the following information about the dataframe:\n",
        "- Get the descriptive statistics for ALL features (numeric and categorical)\n",
        "- Get the data types for all features\n",
        "- What are the unique values for the `doors` column\n",
        "- How many rows and columns are in the dataframe?"
      ]
    },
    {
      "cell_type": "code",
      "metadata": {
        "id": "Wg5IAWTsMJba",
        "colab_type": "code",
        "colab": {
          "base_uri": "https://localhost:8080/",
          "height": 172
        },
        "outputId": "02e3ec11-43df-47b8-c6a6-f09f524505b8"
      },
      "source": [
        "df.describe(exclude=\"number\")"
      ],
      "execution_count": 73,
      "outputs": [
        {
          "output_type": "execute_result",
          "data": {
            "text/html": [
              "<div>\n",
              "<style scoped>\n",
              "    .dataframe tbody tr th:only-of-type {\n",
              "        vertical-align: middle;\n",
              "    }\n",
              "\n",
              "    .dataframe tbody tr th {\n",
              "        vertical-align: top;\n",
              "    }\n",
              "\n",
              "    .dataframe thead th {\n",
              "        text-align: right;\n",
              "    }\n",
              "</style>\n",
              "<table border=\"1\" class=\"dataframe\">\n",
              "  <thead>\n",
              "    <tr style=\"text-align: right;\">\n",
              "      <th></th>\n",
              "      <th>make</th>\n",
              "      <th>fuel</th>\n",
              "      <th>aspiration</th>\n",
              "      <th>doors</th>\n",
              "      <th>bod_style</th>\n",
              "      <th>drv_wheels</th>\n",
              "      <th>eng_loc</th>\n",
              "      <th>engine</th>\n",
              "      <th>fuel_system</th>\n",
              "    </tr>\n",
              "  </thead>\n",
              "  <tbody>\n",
              "    <tr>\n",
              "      <th>count</th>\n",
              "      <td>205</td>\n",
              "      <td>205</td>\n",
              "      <td>205</td>\n",
              "      <td>203</td>\n",
              "      <td>205</td>\n",
              "      <td>205</td>\n",
              "      <td>205</td>\n",
              "      <td>205</td>\n",
              "      <td>205</td>\n",
              "    </tr>\n",
              "    <tr>\n",
              "      <th>unique</th>\n",
              "      <td>22</td>\n",
              "      <td>2</td>\n",
              "      <td>2</td>\n",
              "      <td>2</td>\n",
              "      <td>5</td>\n",
              "      <td>3</td>\n",
              "      <td>2</td>\n",
              "      <td>7</td>\n",
              "      <td>8</td>\n",
              "    </tr>\n",
              "    <tr>\n",
              "      <th>top</th>\n",
              "      <td>toyota</td>\n",
              "      <td>gas</td>\n",
              "      <td>std</td>\n",
              "      <td>four</td>\n",
              "      <td>sedan</td>\n",
              "      <td>fwd</td>\n",
              "      <td>front</td>\n",
              "      <td>ohc</td>\n",
              "      <td>mpfi</td>\n",
              "    </tr>\n",
              "    <tr>\n",
              "      <th>freq</th>\n",
              "      <td>32</td>\n",
              "      <td>185</td>\n",
              "      <td>168</td>\n",
              "      <td>114</td>\n",
              "      <td>96</td>\n",
              "      <td>120</td>\n",
              "      <td>202</td>\n",
              "      <td>148</td>\n",
              "      <td>94</td>\n",
              "    </tr>\n",
              "  </tbody>\n",
              "</table>\n",
              "</div>"
            ],
            "text/plain": [
              "          make fuel aspiration doors  ... drv_wheels eng_loc engine fuel_system\n",
              "count      205  205        205   203  ...        205     205    205         205\n",
              "unique      22    2          2     2  ...          3       2      7           8\n",
              "top     toyota  gas        std  four  ...        fwd   front    ohc        mpfi\n",
              "freq        32  185        168   114  ...        120     202    148          94\n",
              "\n",
              "[4 rows x 9 columns]"
            ]
          },
          "metadata": {
            "tags": []
          },
          "execution_count": 73
        }
      ]
    },
    {
      "cell_type": "code",
      "metadata": {
        "id": "MPFetG3xNfbq",
        "colab_type": "code",
        "colab": {
          "base_uri": "https://localhost:8080/",
          "height": 315
        },
        "outputId": "8ff0a902-9555-4566-c46c-d948380e492d"
      },
      "source": [
        "df.describe(include=\"number\")"
      ],
      "execution_count": 74,
      "outputs": [
        {
          "output_type": "execute_result",
          "data": {
            "text/html": [
              "<div>\n",
              "<style scoped>\n",
              "    .dataframe tbody tr th:only-of-type {\n",
              "        vertical-align: middle;\n",
              "    }\n",
              "\n",
              "    .dataframe tbody tr th {\n",
              "        vertical-align: top;\n",
              "    }\n",
              "\n",
              "    .dataframe thead th {\n",
              "        text-align: right;\n",
              "    }\n",
              "</style>\n",
              "<table border=\"1\" class=\"dataframe\">\n",
              "  <thead>\n",
              "    <tr style=\"text-align: right;\">\n",
              "      <th></th>\n",
              "      <th>symboling</th>\n",
              "      <th>norm_loss</th>\n",
              "      <th>wheel_base</th>\n",
              "      <th>length</th>\n",
              "      <th>width</th>\n",
              "      <th>height</th>\n",
              "      <th>curb_weight</th>\n",
              "      <th>cylinders</th>\n",
              "      <th>engine_size</th>\n",
              "      <th>bore</th>\n",
              "      <th>stroke</th>\n",
              "      <th>compression</th>\n",
              "      <th>hp</th>\n",
              "      <th>peak_rpm</th>\n",
              "      <th>city_mpg</th>\n",
              "      <th>hgwy_mpg</th>\n",
              "      <th>price</th>\n",
              "    </tr>\n",
              "  </thead>\n",
              "  <tbody>\n",
              "    <tr>\n",
              "      <th>count</th>\n",
              "      <td>205.000000</td>\n",
              "      <td>164.000000</td>\n",
              "      <td>205.000000</td>\n",
              "      <td>205.000000</td>\n",
              "      <td>205.000000</td>\n",
              "      <td>205.000000</td>\n",
              "      <td>205.000000</td>\n",
              "      <td>205.000000</td>\n",
              "      <td>205.000000</td>\n",
              "      <td>201.000000</td>\n",
              "      <td>201.000000</td>\n",
              "      <td>205.000000</td>\n",
              "      <td>203.000000</td>\n",
              "      <td>203.000000</td>\n",
              "      <td>205.000000</td>\n",
              "      <td>205.000000</td>\n",
              "      <td>201.000000</td>\n",
              "    </tr>\n",
              "    <tr>\n",
              "      <th>mean</th>\n",
              "      <td>0.834146</td>\n",
              "      <td>122.000000</td>\n",
              "      <td>98.756585</td>\n",
              "      <td>174.049268</td>\n",
              "      <td>65.907805</td>\n",
              "      <td>53.724878</td>\n",
              "      <td>2555.565854</td>\n",
              "      <td>4.380488</td>\n",
              "      <td>126.907317</td>\n",
              "      <td>3.329751</td>\n",
              "      <td>3.255423</td>\n",
              "      <td>10.142537</td>\n",
              "      <td>104.256158</td>\n",
              "      <td>5125.369458</td>\n",
              "      <td>25.219512</td>\n",
              "      <td>30.751220</td>\n",
              "      <td>13207.129353</td>\n",
              "    </tr>\n",
              "    <tr>\n",
              "      <th>std</th>\n",
              "      <td>1.245307</td>\n",
              "      <td>35.442168</td>\n",
              "      <td>6.021776</td>\n",
              "      <td>12.337289</td>\n",
              "      <td>2.145204</td>\n",
              "      <td>2.443522</td>\n",
              "      <td>520.680204</td>\n",
              "      <td>1.080854</td>\n",
              "      <td>41.642693</td>\n",
              "      <td>0.273539</td>\n",
              "      <td>0.316717</td>\n",
              "      <td>3.972040</td>\n",
              "      <td>39.714369</td>\n",
              "      <td>479.334560</td>\n",
              "      <td>6.542142</td>\n",
              "      <td>6.886443</td>\n",
              "      <td>7947.066342</td>\n",
              "    </tr>\n",
              "    <tr>\n",
              "      <th>min</th>\n",
              "      <td>-2.000000</td>\n",
              "      <td>65.000000</td>\n",
              "      <td>86.600000</td>\n",
              "      <td>141.100000</td>\n",
              "      <td>60.300000</td>\n",
              "      <td>47.800000</td>\n",
              "      <td>1488.000000</td>\n",
              "      <td>2.000000</td>\n",
              "      <td>61.000000</td>\n",
              "      <td>2.540000</td>\n",
              "      <td>2.070000</td>\n",
              "      <td>7.000000</td>\n",
              "      <td>48.000000</td>\n",
              "      <td>4150.000000</td>\n",
              "      <td>13.000000</td>\n",
              "      <td>16.000000</td>\n",
              "      <td>5118.000000</td>\n",
              "    </tr>\n",
              "    <tr>\n",
              "      <th>25%</th>\n",
              "      <td>0.000000</td>\n",
              "      <td>94.000000</td>\n",
              "      <td>94.500000</td>\n",
              "      <td>166.300000</td>\n",
              "      <td>64.100000</td>\n",
              "      <td>52.000000</td>\n",
              "      <td>2145.000000</td>\n",
              "      <td>4.000000</td>\n",
              "      <td>97.000000</td>\n",
              "      <td>3.150000</td>\n",
              "      <td>3.110000</td>\n",
              "      <td>8.600000</td>\n",
              "      <td>70.000000</td>\n",
              "      <td>4800.000000</td>\n",
              "      <td>19.000000</td>\n",
              "      <td>25.000000</td>\n",
              "      <td>7775.000000</td>\n",
              "    </tr>\n",
              "    <tr>\n",
              "      <th>50%</th>\n",
              "      <td>1.000000</td>\n",
              "      <td>115.000000</td>\n",
              "      <td>97.000000</td>\n",
              "      <td>173.200000</td>\n",
              "      <td>65.500000</td>\n",
              "      <td>54.100000</td>\n",
              "      <td>2414.000000</td>\n",
              "      <td>4.000000</td>\n",
              "      <td>120.000000</td>\n",
              "      <td>3.310000</td>\n",
              "      <td>3.290000</td>\n",
              "      <td>9.000000</td>\n",
              "      <td>95.000000</td>\n",
              "      <td>5200.000000</td>\n",
              "      <td>24.000000</td>\n",
              "      <td>30.000000</td>\n",
              "      <td>10295.000000</td>\n",
              "    </tr>\n",
              "    <tr>\n",
              "      <th>75%</th>\n",
              "      <td>2.000000</td>\n",
              "      <td>150.000000</td>\n",
              "      <td>102.400000</td>\n",
              "      <td>183.100000</td>\n",
              "      <td>66.900000</td>\n",
              "      <td>55.500000</td>\n",
              "      <td>2935.000000</td>\n",
              "      <td>4.000000</td>\n",
              "      <td>141.000000</td>\n",
              "      <td>3.590000</td>\n",
              "      <td>3.410000</td>\n",
              "      <td>9.400000</td>\n",
              "      <td>116.000000</td>\n",
              "      <td>5500.000000</td>\n",
              "      <td>30.000000</td>\n",
              "      <td>34.000000</td>\n",
              "      <td>16500.000000</td>\n",
              "    </tr>\n",
              "    <tr>\n",
              "      <th>max</th>\n",
              "      <td>3.000000</td>\n",
              "      <td>256.000000</td>\n",
              "      <td>120.900000</td>\n",
              "      <td>208.100000</td>\n",
              "      <td>72.300000</td>\n",
              "      <td>59.800000</td>\n",
              "      <td>4066.000000</td>\n",
              "      <td>12.000000</td>\n",
              "      <td>326.000000</td>\n",
              "      <td>3.940000</td>\n",
              "      <td>4.170000</td>\n",
              "      <td>23.000000</td>\n",
              "      <td>288.000000</td>\n",
              "      <td>6600.000000</td>\n",
              "      <td>49.000000</td>\n",
              "      <td>54.000000</td>\n",
              "      <td>45400.000000</td>\n",
              "    </tr>\n",
              "  </tbody>\n",
              "</table>\n",
              "</div>"
            ],
            "text/plain": [
              "        symboling   norm_loss  wheel_base  ...    city_mpg    hgwy_mpg         price\n",
              "count  205.000000  164.000000  205.000000  ...  205.000000  205.000000    201.000000\n",
              "mean     0.834146  122.000000   98.756585  ...   25.219512   30.751220  13207.129353\n",
              "std      1.245307   35.442168    6.021776  ...    6.542142    6.886443   7947.066342\n",
              "min     -2.000000   65.000000   86.600000  ...   13.000000   16.000000   5118.000000\n",
              "25%      0.000000   94.000000   94.500000  ...   19.000000   25.000000   7775.000000\n",
              "50%      1.000000  115.000000   97.000000  ...   24.000000   30.000000  10295.000000\n",
              "75%      2.000000  150.000000  102.400000  ...   30.000000   34.000000  16500.000000\n",
              "max      3.000000  256.000000  120.900000  ...   49.000000   54.000000  45400.000000\n",
              "\n",
              "[8 rows x 17 columns]"
            ]
          },
          "metadata": {
            "tags": []
          },
          "execution_count": 74
        }
      ]
    },
    {
      "cell_type": "code",
      "metadata": {
        "id": "ME2pU16FNfsP",
        "colab_type": "code",
        "colab": {
          "base_uri": "https://localhost:8080/",
          "height": 68
        },
        "outputId": "bd2ef20c-23ba-4a0e-ce04-4743062a2f85"
      },
      "source": [
        "df[\"doors\"].value_counts()"
      ],
      "execution_count": 75,
      "outputs": [
        {
          "output_type": "execute_result",
          "data": {
            "text/plain": [
              "four    114\n",
              "two      89\n",
              "Name: doors, dtype: int64"
            ]
          },
          "metadata": {
            "tags": []
          },
          "execution_count": 75
        }
      ]
    },
    {
      "cell_type": "code",
      "metadata": {
        "id": "6iLxuMJDMKRg",
        "colab_type": "code",
        "colab": {}
      },
      "source": [
        ""
      ],
      "execution_count": 75,
      "outputs": []
    },
    {
      "cell_type": "markdown",
      "metadata": {
        "id": "JZQFmkMcNjnB",
        "colab_type": "text"
      },
      "source": [
        "# Cleaning and Feature Engineering"
      ]
    },
    {
      "cell_type": "markdown",
      "metadata": {
        "id": "ZZewkUAiNqGs",
        "colab_type": "text"
      },
      "source": [
        "Complete the following actions on the dataframe:\n",
        "- Fill in the null values in the dataframe without dropping any rows or columns\n",
        "- Convert the `doors` column to `int`\n",
        "- Drop the `eng_loc` column\n",
        "- Create a new column in the df that is the `hp` divided by `price`"
      ]
    },
    {
      "cell_type": "code",
      "metadata": {
        "id": "fUYjeSJS21mq",
        "colab_type": "code",
        "colab": {}
      },
      "source": [
        "df[\"doors\"] = df[\"doors\"].replace({\"two\": 2, \"four\": 4})"
      ],
      "execution_count": 76,
      "outputs": []
    },
    {
      "cell_type": "code",
      "metadata": {
        "id": "xI9SyY_IQqlY",
        "colab_type": "code",
        "colab": {}
      },
      "source": [
        "from sklearn.impute import SimpleImputer\n",
        "\n",
        "numeric = df.select_dtypes(include=\"number\")\n",
        "nonnumeric = df.select_dtypes(exclude=\"number\")\n",
        "\n",
        "numeric_columns = numeric.columns\n",
        "\n",
        "imputer = SimpleImputer()\n",
        "numeric = imputer.fit_transform(numeric)\n",
        "\n",
        "numeric = pd.DataFrame(numeric, columns=numeric_columns)\n",
        "df = pd.concat([numeric, nonnumeric], axis=1)"
      ],
      "execution_count": 77,
      "outputs": []
    },
    {
      "cell_type": "code",
      "metadata": {
        "id": "EQC6rnz1QqgJ",
        "colab_type": "code",
        "colab": {
          "base_uri": "https://localhost:8080/",
          "height": 274
        },
        "outputId": "ea3bb45f-a64a-4560-b78f-316930a0138a"
      },
      "source": [
        "df.head()"
      ],
      "execution_count": 78,
      "outputs": [
        {
          "output_type": "execute_result",
          "data": {
            "text/html": [
              "<div>\n",
              "<style scoped>\n",
              "    .dataframe tbody tr th:only-of-type {\n",
              "        vertical-align: middle;\n",
              "    }\n",
              "\n",
              "    .dataframe tbody tr th {\n",
              "        vertical-align: top;\n",
              "    }\n",
              "\n",
              "    .dataframe thead th {\n",
              "        text-align: right;\n",
              "    }\n",
              "</style>\n",
              "<table border=\"1\" class=\"dataframe\">\n",
              "  <thead>\n",
              "    <tr style=\"text-align: right;\">\n",
              "      <th></th>\n",
              "      <th>symboling</th>\n",
              "      <th>norm_loss</th>\n",
              "      <th>doors</th>\n",
              "      <th>wheel_base</th>\n",
              "      <th>length</th>\n",
              "      <th>width</th>\n",
              "      <th>height</th>\n",
              "      <th>curb_weight</th>\n",
              "      <th>cylinders</th>\n",
              "      <th>engine_size</th>\n",
              "      <th>bore</th>\n",
              "      <th>stroke</th>\n",
              "      <th>compression</th>\n",
              "      <th>hp</th>\n",
              "      <th>peak_rpm</th>\n",
              "      <th>city_mpg</th>\n",
              "      <th>hgwy_mpg</th>\n",
              "      <th>price</th>\n",
              "      <th>make</th>\n",
              "      <th>fuel</th>\n",
              "      <th>aspiration</th>\n",
              "      <th>bod_style</th>\n",
              "      <th>drv_wheels</th>\n",
              "      <th>eng_loc</th>\n",
              "      <th>engine</th>\n",
              "      <th>fuel_system</th>\n",
              "    </tr>\n",
              "  </thead>\n",
              "  <tbody>\n",
              "    <tr>\n",
              "      <th>0</th>\n",
              "      <td>3.0</td>\n",
              "      <td>122.0</td>\n",
              "      <td>2.0</td>\n",
              "      <td>88.6</td>\n",
              "      <td>168.8</td>\n",
              "      <td>64.1</td>\n",
              "      <td>48.8</td>\n",
              "      <td>2548.0</td>\n",
              "      <td>4.0</td>\n",
              "      <td>130.0</td>\n",
              "      <td>3.47</td>\n",
              "      <td>2.68</td>\n",
              "      <td>9.0</td>\n",
              "      <td>111.0</td>\n",
              "      <td>5000.0</td>\n",
              "      <td>21.0</td>\n",
              "      <td>27.0</td>\n",
              "      <td>13495.0</td>\n",
              "      <td>alfa-romero</td>\n",
              "      <td>gas</td>\n",
              "      <td>std</td>\n",
              "      <td>convertible</td>\n",
              "      <td>rwd</td>\n",
              "      <td>front</td>\n",
              "      <td>dohc</td>\n",
              "      <td>mpfi</td>\n",
              "    </tr>\n",
              "    <tr>\n",
              "      <th>1</th>\n",
              "      <td>3.0</td>\n",
              "      <td>122.0</td>\n",
              "      <td>2.0</td>\n",
              "      <td>88.6</td>\n",
              "      <td>168.8</td>\n",
              "      <td>64.1</td>\n",
              "      <td>48.8</td>\n",
              "      <td>2548.0</td>\n",
              "      <td>4.0</td>\n",
              "      <td>130.0</td>\n",
              "      <td>3.47</td>\n",
              "      <td>2.68</td>\n",
              "      <td>9.0</td>\n",
              "      <td>111.0</td>\n",
              "      <td>5000.0</td>\n",
              "      <td>21.0</td>\n",
              "      <td>27.0</td>\n",
              "      <td>16500.0</td>\n",
              "      <td>alfa-romero</td>\n",
              "      <td>gas</td>\n",
              "      <td>std</td>\n",
              "      <td>convertible</td>\n",
              "      <td>rwd</td>\n",
              "      <td>front</td>\n",
              "      <td>dohc</td>\n",
              "      <td>mpfi</td>\n",
              "    </tr>\n",
              "    <tr>\n",
              "      <th>2</th>\n",
              "      <td>1.0</td>\n",
              "      <td>122.0</td>\n",
              "      <td>2.0</td>\n",
              "      <td>94.5</td>\n",
              "      <td>171.2</td>\n",
              "      <td>65.5</td>\n",
              "      <td>52.4</td>\n",
              "      <td>2823.0</td>\n",
              "      <td>6.0</td>\n",
              "      <td>152.0</td>\n",
              "      <td>2.68</td>\n",
              "      <td>3.47</td>\n",
              "      <td>9.0</td>\n",
              "      <td>154.0</td>\n",
              "      <td>5000.0</td>\n",
              "      <td>19.0</td>\n",
              "      <td>26.0</td>\n",
              "      <td>16500.0</td>\n",
              "      <td>alfa-romero</td>\n",
              "      <td>gas</td>\n",
              "      <td>std</td>\n",
              "      <td>hatchback</td>\n",
              "      <td>rwd</td>\n",
              "      <td>front</td>\n",
              "      <td>ohcv</td>\n",
              "      <td>mpfi</td>\n",
              "    </tr>\n",
              "    <tr>\n",
              "      <th>3</th>\n",
              "      <td>2.0</td>\n",
              "      <td>164.0</td>\n",
              "      <td>4.0</td>\n",
              "      <td>99.8</td>\n",
              "      <td>176.6</td>\n",
              "      <td>66.2</td>\n",
              "      <td>54.3</td>\n",
              "      <td>2337.0</td>\n",
              "      <td>4.0</td>\n",
              "      <td>109.0</td>\n",
              "      <td>3.19</td>\n",
              "      <td>3.40</td>\n",
              "      <td>10.0</td>\n",
              "      <td>102.0</td>\n",
              "      <td>5500.0</td>\n",
              "      <td>24.0</td>\n",
              "      <td>30.0</td>\n",
              "      <td>13950.0</td>\n",
              "      <td>audi</td>\n",
              "      <td>gas</td>\n",
              "      <td>std</td>\n",
              "      <td>sedan</td>\n",
              "      <td>fwd</td>\n",
              "      <td>front</td>\n",
              "      <td>ohc</td>\n",
              "      <td>mpfi</td>\n",
              "    </tr>\n",
              "    <tr>\n",
              "      <th>4</th>\n",
              "      <td>2.0</td>\n",
              "      <td>164.0</td>\n",
              "      <td>4.0</td>\n",
              "      <td>99.4</td>\n",
              "      <td>176.6</td>\n",
              "      <td>66.4</td>\n",
              "      <td>54.3</td>\n",
              "      <td>2824.0</td>\n",
              "      <td>5.0</td>\n",
              "      <td>136.0</td>\n",
              "      <td>3.19</td>\n",
              "      <td>3.40</td>\n",
              "      <td>8.0</td>\n",
              "      <td>115.0</td>\n",
              "      <td>5500.0</td>\n",
              "      <td>18.0</td>\n",
              "      <td>22.0</td>\n",
              "      <td>17450.0</td>\n",
              "      <td>audi</td>\n",
              "      <td>gas</td>\n",
              "      <td>std</td>\n",
              "      <td>sedan</td>\n",
              "      <td>4wd</td>\n",
              "      <td>front</td>\n",
              "      <td>ohc</td>\n",
              "      <td>mpfi</td>\n",
              "    </tr>\n",
              "  </tbody>\n",
              "</table>\n",
              "</div>"
            ],
            "text/plain": [
              "   symboling  norm_loss  doors  ...  eng_loc  engine  fuel_system\n",
              "0        3.0      122.0    2.0  ...    front    dohc         mpfi\n",
              "1        3.0      122.0    2.0  ...    front    dohc         mpfi\n",
              "2        1.0      122.0    2.0  ...    front    ohcv         mpfi\n",
              "3        2.0      164.0    4.0  ...    front     ohc         mpfi\n",
              "4        2.0      164.0    4.0  ...    front     ohc         mpfi\n",
              "\n",
              "[5 rows x 26 columns]"
            ]
          },
          "metadata": {
            "tags": []
          },
          "execution_count": 78
        }
      ]
    },
    {
      "cell_type": "code",
      "metadata": {
        "id": "j4-o-AhAQqbb",
        "colab_type": "code",
        "colab": {
          "base_uri": "https://localhost:8080/",
          "height": 480
        },
        "outputId": "b4d3a2cf-4709-4338-89a9-dfda760853a8"
      },
      "source": [
        "df.isna().sum()"
      ],
      "execution_count": 79,
      "outputs": [
        {
          "output_type": "execute_result",
          "data": {
            "text/plain": [
              "symboling      0\n",
              "norm_loss      0\n",
              "doors          0\n",
              "wheel_base     0\n",
              "length         0\n",
              "width          0\n",
              "height         0\n",
              "curb_weight    0\n",
              "cylinders      0\n",
              "engine_size    0\n",
              "bore           0\n",
              "stroke         0\n",
              "compression    0\n",
              "hp             0\n",
              "peak_rpm       0\n",
              "city_mpg       0\n",
              "hgwy_mpg       0\n",
              "price          0\n",
              "make           0\n",
              "fuel           0\n",
              "aspiration     0\n",
              "bod_style      0\n",
              "drv_wheels     0\n",
              "eng_loc        0\n",
              "engine         0\n",
              "fuel_system    0\n",
              "dtype: int64"
            ]
          },
          "metadata": {
            "tags": []
          },
          "execution_count": 79
        }
      ]
    },
    {
      "cell_type": "code",
      "metadata": {
        "id": "HX0uCs-KQqVC",
        "colab_type": "code",
        "colab": {
          "base_uri": "https://localhost:8080/",
          "height": 480
        },
        "outputId": "74015bfd-26e8-4640-f0b7-4172bcd1ecaf"
      },
      "source": [
        "df.dtypes"
      ],
      "execution_count": 80,
      "outputs": [
        {
          "output_type": "execute_result",
          "data": {
            "text/plain": [
              "symboling      float64\n",
              "norm_loss      float64\n",
              "doors          float64\n",
              "wheel_base     float64\n",
              "length         float64\n",
              "width          float64\n",
              "height         float64\n",
              "curb_weight    float64\n",
              "cylinders      float64\n",
              "engine_size    float64\n",
              "bore           float64\n",
              "stroke         float64\n",
              "compression    float64\n",
              "hp             float64\n",
              "peak_rpm       float64\n",
              "city_mpg       float64\n",
              "hgwy_mpg       float64\n",
              "price          float64\n",
              "make            object\n",
              "fuel            object\n",
              "aspiration      object\n",
              "bod_style       object\n",
              "drv_wheels      object\n",
              "eng_loc         object\n",
              "engine          object\n",
              "fuel_system     object\n",
              "dtype: object"
            ]
          },
          "metadata": {
            "tags": []
          },
          "execution_count": 80
        }
      ]
    },
    {
      "cell_type": "code",
      "metadata": {
        "id": "mCzojIZc3XJm",
        "colab_type": "code",
        "colab": {
          "base_uri": "https://localhost:8080/",
          "height": 223
        },
        "outputId": "70837860-a23e-4767-c33f-e637ee23aa1f"
      },
      "source": [
        "df[\"bore\"]"
      ],
      "execution_count": 81,
      "outputs": [
        {
          "output_type": "execute_result",
          "data": {
            "text/plain": [
              "0      3.47\n",
              "1      3.47\n",
              "2      2.68\n",
              "3      3.19\n",
              "4      3.19\n",
              "       ... \n",
              "200    3.78\n",
              "201    3.78\n",
              "202    3.58\n",
              "203    3.01\n",
              "204    3.78\n",
              "Name: bore, Length: 205, dtype: float64"
            ]
          },
          "metadata": {
            "tags": []
          },
          "execution_count": 81
        }
      ]
    },
    {
      "cell_type": "markdown",
      "metadata": {
        "id": "gpxXIPjf7ilK",
        "colab_type": "text"
      },
      "source": [
        "## Questions of Understanding\n",
        "*Double click the markdown cell to add your answer*\n",
        "\n",
        "1. What does it mean to engineer a feature?\n",
        "```\n",
        "Your Answer Here\n",
        "```\n",
        "2. What is a `NaN` and why do we care about them?\n",
        "```\n",
        "Your Answer Here\n",
        "```"
      ]
    },
    {
      "cell_type": "markdown",
      "metadata": {
        "id": "YJP6bMIJQsBF",
        "colab_type": "text"
      },
      "source": [
        "# Basic Visualizations"
      ]
    },
    {
      "cell_type": "markdown",
      "metadata": {
        "id": "fp_7Jn62QzoJ",
        "colab_type": "text"
      },
      "source": [
        "Make the following basic graphs with the features in the dataframe:\n",
        "- Line Plot\n",
        "- Scatterplot\n",
        "- Histogram\n",
        "- Bar Graph\n",
        "- Density\n",
        "\n",
        "All graphs should have a title, and label for each axis"
      ]
    },
    {
      "cell_type": "code",
      "metadata": {
        "id": "GwL2EUjJ0yBv",
        "colab_type": "code",
        "colab": {
          "base_uri": "https://localhost:8080/",
          "height": 286
        },
        "outputId": "69764775-ab54-4c78-fa34-d384456d5a55"
      },
      "source": [
        "fig, ax = plt.subplots()\n",
        "ax.scatter(df[\"cylinders\"], df[\"hp\"])"
      ],
      "execution_count": 85,
      "outputs": [
        {
          "output_type": "execute_result",
          "data": {
            "text/plain": [
              "<matplotlib.collections.PathCollection at 0x7f96aee77b38>"
            ]
          },
          "metadata": {
            "tags": []
          },
          "execution_count": 85
        },
        {
          "output_type": "display_data",
          "data": {
            "image/png": "[encoded data removed]",
            "text/plain": [
              "<Figure size 432x288 with 1 Axes>"
            ]
          },
          "metadata": {
            "tags": [],
            "needs_background": "light"
          }
        }
      ]
    },
    {
      "cell_type": "code",
      "metadata": {
        "id": "APzaEbStRZpL",
        "colab_type": "code",
        "colab": {
          "base_uri": "https://localhost:8080/",
          "height": 711
        },
        "outputId": "635677e3-2bd6-4403-c9a0-7a6b24d21c7a"
      },
      "source": [
        "fig, ax = plt.subplots()\n",
        "\n",
        "ax.hist(df[\"price\"], bins=100)"
      ],
      "execution_count": 87,
      "outputs": [
        {
          "output_type": "execute_result",
          "data": {
            "text/plain": [
              "(array([ 7.,  2.,  5., 11., 11.,  8., 12., 11.,  6.,  8.,  9.,  2., 10.,\n",
              "         2.,  4.,  5.,  5.,  2.,  3.,  3., 10.,  4.,  0.,  2.,  2.,  3.,\n",
              "         4.,  1.,  8.,  5.,  1.,  3.,  5.,  2.,  3.,  0.,  1.,  0.,  0.,\n",
              "         2.,  1.,  1.,  0.,  2.,  0.,  0.,  1.,  0.,  1.,  0.,  1.,  0.,\n",
              "         0.,  0.,  0.,  0.,  0.,  2.,  0.,  0.,  0.,  0.,  0.,  1.,  0.,\n",
              "         1.,  0.,  1.,  1.,  0.,  0.,  1.,  1.,  0.,  1.,  1.,  1.,  0.,\n",
              "         1.,  1.,  0.,  0.,  0.,  0.,  0.,  0.,  0.,  0.,  1.,  1.,  0.,\n",
              "         0.,  0.,  0.,  0.,  0.,  0.,  0.,  0.,  1.]),\n",
              " array([ 5118.  ,  5520.82,  5923.64,  6326.46,  6729.28,  7132.1 ,\n",
              "         7534.92,  7937.74,  8340.56,  8743.38,  9146.2 ,  9549.02,\n",
              "         9951.84, 10354.66, 10757.48, 11160.3 , 11563.12, 11965.94,\n",
              "        12368.76, 12771.58, 13174.4 , 13577.22, 13980.04, 14382.86,\n",
              "        14785.68, 15188.5 , 15591.32, 15994.14, 16396.96, 16799.78,\n",
              "        17202.6 , 17605.42, 18008.24, 18411.06, 18813.88, 19216.7 ,\n",
              "        19619.52, 20022.34, 20425.16, 20827.98, 21230.8 , 21633.62,\n",
              "        22036.44, 22439.26, 22842.08, 23244.9 , 23647.72, 24050.54,\n",
              "        24453.36, 24856.18, 25259.  , 25661.82, 26064.64, 26467.46,\n",
              "        26870.28, 27273.1 , 27675.92, 28078.74, 28481.56, 28884.38,\n",
              "        29287.2 , 29690.02, 30092.84, 30495.66, 30898.48, 31301.3 ,\n",
              "        31704.12, 32106.94, 32509.76, 32912.58, 33315.4 , 33718.22,\n",
              "        34121.04, 34523.86, 34926.68, 35329.5 , 35732.32, 36135.14,\n",
              "        36537.96, 36940.78, 37343.6 , 37746.42, 38149.24, 38552.06,\n",
              "        38954.88, 39357.7 , 39760.52, 40163.34, 40566.16, 40968.98,\n",
              "        41371.8 , 41774.62, 42177.44, 42580.26, 42983.08, 43385.9 ,\n",
              "        43788.72, 44191.54, 44594.36, 44997.18, 45400.  ]),\n",
              " <a list of 100 Patch objects>)"
            ]
          },
          "metadata": {
            "tags": []
          },
          "execution_count": 87
        },
        {
          "output_type": "display_data",
          "data": {
            "image/png": "[encoded data removed]",
            "text/plain": [
              "<Figure size 432x288 with 1 Axes>"
            ]
          },
          "metadata": {
            "tags": [],
            "needs_background": "light"
          }
        }
      ]
    },
    {
      "cell_type": "code",
      "metadata": {
        "id": "twLoG5MDRZ3c",
        "colab_type": "code",
        "colab": {}
      },
      "source": [
        ""
      ],
      "execution_count": null,
      "outputs": []
    },
    {
      "cell_type": "code",
      "metadata": {
        "id": "zt2BnVO5RaWc",
        "colab_type": "code",
        "colab": {}
      },
      "source": [
        ""
      ],
      "execution_count": null,
      "outputs": []
    },
    {
      "cell_type": "code",
      "metadata": {
        "id": "X-oapWkjRZyu",
        "colab_type": "code",
        "colab": {}
      },
      "source": [
        ""
      ],
      "execution_count": null,
      "outputs": []
    },
    {
      "cell_type": "markdown",
      "metadata": {
        "id": "8-UbABdR8hPY",
        "colab_type": "text"
      },
      "source": [
        "## Questions of Understanding\n",
        "*Double click the markdown cell to add your answer*\n",
        "\n",
        "Name a graph you would use for the following cases:\n",
        "- Distribution: `Your Answer Here`\n",
        "- Change Over Time: `Your Answer Here`\n",
        "- Correlation: `Your Answer Here`\n",
        "\n",
        "You may find the answers in the Resources section above or through Google"
      ]
    },
    {
      "cell_type": "markdown",
      "metadata": {
        "id": "0xXYDhpdRhQt",
        "colab_type": "text"
      },
      "source": [
        "# Crosstabs and Pivot Tables"
      ]
    },
    {
      "cell_type": "markdown",
      "metadata": {
        "colab_type": "text",
        "id": "CBkuYy9PojMW"
      },
      "source": [
        "Make a crosstab of two of the categorical features"
      ]
    },
    {
      "cell_type": "code",
      "metadata": {
        "colab_type": "code",
        "id": "rGPS8RLgojBh",
        "colab": {}
      },
      "source": [
        ""
      ],
      "execution_count": null,
      "outputs": []
    },
    {
      "cell_type": "markdown",
      "metadata": {
        "id": "76gOBtP3n3GY",
        "colab_type": "text"
      },
      "source": [
        "Make a graph from the crosstab"
      ]
    },
    {
      "cell_type": "code",
      "metadata": {
        "id": "dGdArU8NUOEH",
        "colab_type": "code",
        "colab": {}
      },
      "source": [
        ""
      ],
      "execution_count": null,
      "outputs": []
    },
    {
      "cell_type": "markdown",
      "metadata": {
        "id": "I6kr60bCnsvb",
        "colab_type": "text"
      },
      "source": [
        "In a sentence or two, explain how to read the table and what the values mean\n",
        "```\n",
        "Your Answer Here\n",
        "```"
      ]
    },
    {
      "cell_type": "markdown",
      "metadata": {
        "id": "4USgczuLn6h3",
        "colab_type": "text"
      },
      "source": [
        "Make a crosstab with a categorical feature and price\n",
        "- Use `pd.cut` to create 5 bins for price"
      ]
    },
    {
      "cell_type": "code",
      "metadata": {
        "id": "NhAXm5hXUOPI",
        "colab_type": "code",
        "colab": {}
      },
      "source": [
        ""
      ],
      "execution_count": null,
      "outputs": []
    },
    {
      "cell_type": "markdown",
      "metadata": {
        "id": "JhT5aFQaoPjh",
        "colab_type": "text"
      },
      "source": [
        "Make a graph from the crosstab"
      ]
    },
    {
      "cell_type": "code",
      "metadata": {
        "id": "d_5kQphcoQdH",
        "colab_type": "code",
        "colab": {}
      },
      "source": [
        ""
      ],
      "execution_count": null,
      "outputs": []
    },
    {
      "cell_type": "markdown",
      "metadata": {
        "id": "hOsHE59loFbf",
        "colab_type": "text"
      },
      "source": [
        "In a sentence or two, explain how to read the table and what the values mean\n",
        "```\n",
        "Your Answer Here\n",
        "```"
      ]
    },
    {
      "cell_type": "markdown",
      "metadata": {
        "id": "9thwLfuOoV4p",
        "colab_type": "text"
      },
      "source": [
        "Create a [pivot table](https://pandas.pydata.org/pandas-docs/stable/reference/api/pandas.DataFrame.pivot.html)"
      ]
    },
    {
      "cell_type": "code",
      "metadata": {
        "id": "sWUdFVslUOdY",
        "colab_type": "code",
        "colab": {}
      },
      "source": [
        ""
      ],
      "execution_count": null,
      "outputs": []
    },
    {
      "cell_type": "markdown",
      "metadata": {
        "colab_type": "text",
        "id": "JUZ81-QdodFk"
      },
      "source": [
        "In a sentence or two, explain how to read the table and what the values mean\n",
        "```\n",
        "Your Answer Here\n",
        "```"
      ]
    },
    {
      "cell_type": "markdown",
      "metadata": {
        "id": "vmyJ0VOSUpo-",
        "colab_type": "text"
      },
      "source": [
        "# Interpretations"
      ]
    },
    {
      "cell_type": "markdown",
      "metadata": {
        "id": "l4KrOj8JUrzj",
        "colab_type": "text"
      },
      "source": [
        "Write a short paragraph explaining some of the things you learned from the dataset. Avoid low hanging fruit like simply writing about the different descriptive stats. Focus on interesting relationships between columns, what you see in the graphs, etc."
      ]
    },
    {
      "cell_type": "code",
      "metadata": {
        "id": "1PqyuoWgVTpi",
        "colab_type": "code",
        "colab": {}
      },
      "source": [
        ""
      ],
      "execution_count": null,
      "outputs": []
    },
    {
      "cell_type": "markdown",
      "metadata": {
        "id": "4nDwljBQVixD",
        "colab_type": "text"
      },
      "source": [
        "# Tidy and Join"
      ]
    },
    {
      "cell_type": "markdown",
      "metadata": {
        "id": "_k1wR__VbIMo",
        "colab_type": "text"
      },
      "source": [
        "Combine `df_a`, `df_b`, and `df_c` joining on the ids in `df_a` to reveal the real names of The Hulk, Spiderman, and Superman."
      ]
    },
    {
      "cell_type": "code",
      "metadata": {
        "id": "HMwpqGfIZzt0",
        "colab_type": "code",
        "colab": {
          "base_uri": "https://localhost:8080/",
          "height": 143
        },
        "outputId": "5da041cd-2e4d-4200-a2de-05c39a0c4a14"
      },
      "source": [
        "df_a = pd.DataFrame({'id_b':[1,2,3], 'id_c': [4,5,6]})\n",
        "df_a"
      ],
      "execution_count": null,
      "outputs": [
        {
          "output_type": "execute_result",
          "data": {
            "text/html": [
              "<div>\n",
              "<style scoped>\n",
              "    .dataframe tbody tr th:only-of-type {\n",
              "        vertical-align: middle;\n",
              "    }\n",
              "\n",
              "    .dataframe tbody tr th {\n",
              "        vertical-align: top;\n",
              "    }\n",
              "\n",
              "    .dataframe thead th {\n",
              "        text-align: right;\n",
              "    }\n",
              "</style>\n",
              "<table border=\"1\" class=\"dataframe\">\n",
              "  <thead>\n",
              "    <tr style=\"text-align: right;\">\n",
              "      <th></th>\n",
              "      <th>id_b</th>\n",
              "      <th>id_c</th>\n",
              "    </tr>\n",
              "  </thead>\n",
              "  <tbody>\n",
              "    <tr>\n",
              "      <th>0</th>\n",
              "      <td>1</td>\n",
              "      <td>4</td>\n",
              "    </tr>\n",
              "    <tr>\n",
              "      <th>1</th>\n",
              "      <td>2</td>\n",
              "      <td>5</td>\n",
              "    </tr>\n",
              "    <tr>\n",
              "      <th>2</th>\n",
              "      <td>3</td>\n",
              "      <td>6</td>\n",
              "    </tr>\n",
              "  </tbody>\n",
              "</table>\n",
              "</div>"
            ],
            "text/plain": [
              "   id_b  id_c\n",
              "0     1     4\n",
              "1     2     5\n",
              "2     3     6"
            ]
          },
          "metadata": {
            "tags": []
          },
          "execution_count": 42
        }
      ]
    },
    {
      "cell_type": "code",
      "metadata": {
        "id": "6eKvwxn5ajUZ",
        "colab_type": "code",
        "colab": {
          "base_uri": "https://localhost:8080/",
          "height": 143
        },
        "outputId": "24435f25-72f2-4ef7-8aa2-26502baa99c9"
      },
      "source": [
        "df_b = pd.DataFrame({'id':[1,2,3], 'first_name': ['Bruce', 'Peter', 'Clark']})\n",
        "df_b"
      ],
      "execution_count": null,
      "outputs": [
        {
          "output_type": "execute_result",
          "data": {
            "text/html": [
              "<div>\n",
              "<style scoped>\n",
              "    .dataframe tbody tr th:only-of-type {\n",
              "        vertical-align: middle;\n",
              "    }\n",
              "\n",
              "    .dataframe tbody tr th {\n",
              "        vertical-align: top;\n",
              "    }\n",
              "\n",
              "    .dataframe thead th {\n",
              "        text-align: right;\n",
              "    }\n",
              "</style>\n",
              "<table border=\"1\" class=\"dataframe\">\n",
              "  <thead>\n",
              "    <tr style=\"text-align: right;\">\n",
              "      <th></th>\n",
              "      <th>id</th>\n",
              "      <th>first_name</th>\n",
              "    </tr>\n",
              "  </thead>\n",
              "  <tbody>\n",
              "    <tr>\n",
              "      <th>0</th>\n",
              "      <td>1</td>\n",
              "      <td>Bruce</td>\n",
              "    </tr>\n",
              "    <tr>\n",
              "      <th>1</th>\n",
              "      <td>2</td>\n",
              "      <td>Peter</td>\n",
              "    </tr>\n",
              "    <tr>\n",
              "      <th>2</th>\n",
              "      <td>3</td>\n",
              "      <td>Clark</td>\n",
              "    </tr>\n",
              "  </tbody>\n",
              "</table>\n",
              "</div>"
            ],
            "text/plain": [
              "   id first_name\n",
              "0   1      Bruce\n",
              "1   2      Peter\n",
              "2   3      Clark"
            ]
          },
          "metadata": {
            "tags": []
          },
          "execution_count": 43
        }
      ]
    },
    {
      "cell_type": "code",
      "metadata": {
        "id": "pBIZJK7tamdO",
        "colab_type": "code",
        "colab": {
          "base_uri": "https://localhost:8080/",
          "height": 143
        },
        "outputId": "e05c115f-fbb2-410f-ed52-12b19f055ba6"
      },
      "source": [
        "df_c = pd.DataFrame({'id': [4,5,6], 'last_name': ['Banner', 'Parker', 'Kent']})\n",
        "df_c"
      ],
      "execution_count": null,
      "outputs": [
        {
          "output_type": "execute_result",
          "data": {
            "text/html": [
              "<div>\n",
              "<style scoped>\n",
              "    .dataframe tbody tr th:only-of-type {\n",
              "        vertical-align: middle;\n",
              "    }\n",
              "\n",
              "    .dataframe tbody tr th {\n",
              "        vertical-align: top;\n",
              "    }\n",
              "\n",
              "    .dataframe thead th {\n",
              "        text-align: right;\n",
              "    }\n",
              "</style>\n",
              "<table border=\"1\" class=\"dataframe\">\n",
              "  <thead>\n",
              "    <tr style=\"text-align: right;\">\n",
              "      <th></th>\n",
              "      <th>id</th>\n",
              "      <th>last_name</th>\n",
              "    </tr>\n",
              "  </thead>\n",
              "  <tbody>\n",
              "    <tr>\n",
              "      <th>0</th>\n",
              "      <td>4</td>\n",
              "      <td>Banner</td>\n",
              "    </tr>\n",
              "    <tr>\n",
              "      <th>1</th>\n",
              "      <td>5</td>\n",
              "      <td>Parker</td>\n",
              "    </tr>\n",
              "    <tr>\n",
              "      <th>2</th>\n",
              "      <td>6</td>\n",
              "      <td>Kent</td>\n",
              "    </tr>\n",
              "  </tbody>\n",
              "</table>\n",
              "</div>"
            ],
            "text/plain": [
              "   id last_name\n",
              "0   4    Banner\n",
              "1   5    Parker\n",
              "2   6      Kent"
            ]
          },
          "metadata": {
            "tags": []
          },
          "execution_count": 44
        }
      ]
    },
    {
      "cell_type": "code",
      "metadata": {
        "id": "ZAWU3yo1cigI",
        "colab_type": "code",
        "colab": {}
      },
      "source": [
        ""
      ],
      "execution_count": null,
      "outputs": []
    },
    {
      "cell_type": "code",
      "metadata": {
        "id": "COhFWYjjciYD",
        "colab_type": "code",
        "colab": {}
      },
      "source": [
        ""
      ],
      "execution_count": null,
      "outputs": []
    },
    {
      "cell_type": "markdown",
      "metadata": {
        "id": "-3S5czwpZHY8",
        "colab_type": "text"
      },
      "source": [
        "Use `melt` to change the dataframe below to look like the image below."
      ]
    },
    {
      "cell_type": "code",
      "metadata": {
        "id": "3MACmvwfWQem",
        "colab_type": "code",
        "colab": {
          "base_uri": "https://localhost:8080/",
          "height": 143
        },
        "outputId": "baf8e023-8385-40d9-b5e3-683c7de6fe42"
      },
      "source": [
        "messy = pd.DataFrame({'a': ['A', 'B', 'C'], \n",
        "                      'b': [1, 2, 3],\n",
        "                      'c': [4, 5, 6],\n",
        "                      'd': [7, 8, 9]})\n",
        "\n",
        "messy"
      ],
      "execution_count": null,
      "outputs": [
        {
          "output_type": "execute_result",
          "data": {
            "text/html": [
              "<div>\n",
              "<style scoped>\n",
              "    .dataframe tbody tr th:only-of-type {\n",
              "        vertical-align: middle;\n",
              "    }\n",
              "\n",
              "    .dataframe tbody tr th {\n",
              "        vertical-align: top;\n",
              "    }\n",
              "\n",
              "    .dataframe thead th {\n",
              "        text-align: right;\n",
              "    }\n",
              "</style>\n",
              "<table border=\"1\" class=\"dataframe\">\n",
              "  <thead>\n",
              "    <tr style=\"text-align: right;\">\n",
              "      <th></th>\n",
              "      <th>a</th>\n",
              "      <th>b</th>\n",
              "      <th>c</th>\n",
              "      <th>d</th>\n",
              "    </tr>\n",
              "  </thead>\n",
              "  <tbody>\n",
              "    <tr>\n",
              "      <th>0</th>\n",
              "      <td>A</td>\n",
              "      <td>1</td>\n",
              "      <td>4</td>\n",
              "      <td>7</td>\n",
              "    </tr>\n",
              "    <tr>\n",
              "      <th>1</th>\n",
              "      <td>B</td>\n",
              "      <td>2</td>\n",
              "      <td>5</td>\n",
              "      <td>8</td>\n",
              "    </tr>\n",
              "    <tr>\n",
              "      <th>2</th>\n",
              "      <td>C</td>\n",
              "      <td>3</td>\n",
              "      <td>6</td>\n",
              "      <td>9</td>\n",
              "    </tr>\n",
              "  </tbody>\n",
              "</table>\n",
              "</div>"
            ],
            "text/plain": [
              "   a  b  c  d\n",
              "0  A  1  4  7\n",
              "1  B  2  5  8\n",
              "2  C  3  6  9"
            ]
          },
          "metadata": {
            "tags": []
          },
          "execution_count": 5
        }
      ]
    },
    {
      "cell_type": "markdown",
      "metadata": {
        "id": "vxtdnU8dZjJd",
        "colab_type": "text"
      },
      "source": [
        "Make this:\n",
        "\n",
        "![image.png](data:image/png;base64,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)"
      ]
    },
    {
      "cell_type": "code",
      "metadata": {
        "id": "x7oidujvX08l",
        "colab_type": "code",
        "colab": {}
      },
      "source": [
        ""
      ],
      "execution_count": null,
      "outputs": []
    },
    {
      "cell_type": "markdown",
      "metadata": {
        "id": "dWhz2iOf4VeU",
        "colab_type": "text"
      },
      "source": [
        "1. In a sentence or two, explain what the tidy data format is.\n",
        "```\n",
        "Your Answer Here\n",
        "```\n",
        "\n",
        "2. What are the types of joins\n",
        "```\n",
        "Your Answer Here\n",
        "```"
      ]
    },
    {
      "cell_type": "markdown",
      "metadata": {
        "id": "pW5PDZLUckpC",
        "colab_type": "text"
      },
      "source": [
        "# Snazzy Graphs"
      ]
    },
    {
      "cell_type": "markdown",
      "metadata": {
        "id": "7tCCNvsQpL4I",
        "colab_type": "text"
      },
      "source": [
        "Run the code below"
      ]
    },
    {
      "cell_type": "code",
      "metadata": {
        "id": "6yPMC-ulpK0M",
        "colab_type": "code",
        "colab": {}
      },
      "source": [
        "%matplotlib inline\n",
        "import matplotlib.pyplot as plt\n",
        "import numpy as np\n",
        "import pandas as pd\n",
        "\n",
        "url = 'https://raw.githubusercontent.com/fivethirtyeight/data/master/daily-show-guests/daily_show_guests.csv'\n",
        "df = pd.read_csv(url).rename(columns={'YEAR': 'Year', 'Raw_Guest_List': 'Guest'})\n",
        "\n",
        "def get_occupation(group):\n",
        "    if group in ['Acting', 'Comedy', 'Musician']:\n",
        "        return 'Acting, Comedy & Music'\n",
        "    elif group in ['Media', 'media']:\n",
        "        return 'Media'\n",
        "    elif group in ['Government', 'Politician', 'Political Aide']:\n",
        "        return 'Government and Politics'\n",
        "    else:\n",
        "        return 'Other'\n",
        "      \n",
        "df['Occupation'] = df['Group'].apply(get_occupation)"
      ],
      "execution_count": null,
      "outputs": []
    },
    {
      "cell_type": "code",
      "metadata": {
        "id": "WFGzBdUTpR91",
        "colab_type": "code",
        "colab": {}
      },
      "source": [
        "from IPython.display import display, Image\n",
        "\n",
        "png = 'https://fivethirtyeight.com/wp-content/uploads/2015/08/hickey-datalab-dailyshow.png'\n",
        "example = Image(png, width=500)\n",
        "display(example)"
      ],
      "execution_count": null,
      "outputs": []
    },
    {
      "cell_type": "markdown",
      "metadata": {
        "id": "7dLMpelIGGNV",
        "colab_type": "text"
      },
      "source": [
        "Recreate the FiveThirtyEight graph. Try to include:\n",
        "- All text in the orginal graph (except the watermark) is present in your graph and in the same locations\n",
        "- All text in your graph is roughly the same size and look of the original graph\n",
        "- Gridlines, Ticklabels, and tickmark spacing matches\n",
        "- Coloring and/or style matches."
      ]
    },
    {
      "cell_type": "code",
      "metadata": {
        "id": "GAjE_xuDBxyM",
        "colab_type": "code",
        "colab": {}
      },
      "source": [
        ""
      ],
      "execution_count": null,
      "outputs": []
    }
  ]
}